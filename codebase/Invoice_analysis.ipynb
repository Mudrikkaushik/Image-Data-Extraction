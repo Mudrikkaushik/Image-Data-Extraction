{
 "cells": [
  {
   "cell_type": "code",
   "execution_count": 24,
   "id": "4efd2350-0272-4d46-b69f-1553de68106e",
   "metadata": {},
   "outputs": [],
   "source": [
    "import pytesseract\n",
    "from PIL import Image\n",
    "import re\n",
    "import json"
   ]
  },
  {
   "cell_type": "code",
   "execution_count": 25,
   "id": "f7c80fb9-1908-44af-9fe0-25335fb823fe",
   "metadata": {},
   "outputs": [
    {
     "name": "stdout",
     "output_type": "stream",
     "text": [
      " \n",
      "\n",
      " \n",
      "\n",
      " \n",
      "\n",
      " \n",
      "\n",
      " \n",
      "\n",
      " \n",
      "\n",
      " \n",
      "\n",
      " \n",
      "\n",
      " \n",
      "\n",
      " \n",
      "\n",
      " \n",
      "\n",
      " \n",
      "\n",
      " \n",
      "\n",
      "East Repair Inc. INVOICE\n",
      "1912 Harvest Lane\n",
      "New York, NY 12210\n",
      "Bill To Ship To: Invoice # US-001\n",
      "dohn Smith ohn Seaith Involce Date 11022019\n",
      "2Court Square 3787 Pineview Drive\n",
      "Now York, NY 12210 ‘Cambridge, MA 12210 ad 231272019\n",
      "Due date 2802/2019\n",
      "ary DESCRIPTION [_unrrerice_| PRICE |_#प्णा |\n",
      "[4 | Front and rear brake cables 100.00 100.00\n",
      "[2 | New set of pedal arms |_ 15७ | 30.00\n",
      "[| | Labor 3hrs- [500 | | 800 |\n",
      "Subtotal 145,00\n",
      "Sales Tax 6.25% 9.06\n",
      "TOTAL $154.06\n",
      "‘Terms & Conditions\n",
      "Payment is duo within 16 days\n",
      "\n",
      "Please make checks payable to: East Repair inc.\n",
      "\f",
      "\n"
     ]
    }
   ],
   "source": [
    "#extract output from image using tesseract\n",
    "#ollama fine tune RAG\n",
    "#streamlit\n",
    "path = '/teamspace/studios/this_studio/images/result_final.png'\n",
    "image = Image.open(path)\n",
    "ex_text = pytesseract.image_to_string(image, lang='eng+hin')\n",
    "print(f\"{ex_text}\")"
   ]
  },
  {
   "cell_type": "code",
   "execution_count": 26,
   "id": "11e1d15a-819e-4ef8-b821-2c16cf004954",
   "metadata": {},
   "outputs": [
    {
     "name": "stdout",
     "output_type": "stream",
     "text": [
      "East Repair Inc. INVOICE 1912 Harvest Lane New York, NY 12210 Bill To Ship To: Invoice # US-001 dohn Smith ohn Seaith Involce Date 11022019 2Court Square 3787 Pineview Drive Now York, NY 12210 ‘Cambridge, MA 12210 ad 231272019 Due date 26/02/2019 ary DESCRIPTION UNIT PRICE AMOUNT 1 Front and rear brake cables 100.00 100.00 2 _| New set of pedal arms 15.00 30.00 3 Labor 3hrs- 5.00 15.00 Subtotal 145,00 Sales Tax 6.25% 9.06 TOTAL $154.06 ‘Terms & Conditions Payment is duo within 16 days Please make checks payable to: East Repair inc.\n"
     ]
    }
   ],
   "source": [
    "#convert output into string\n",
    "ext = pytesseract.image_to_string(image, lang='eng')\n",
    "ext_str = str(ext)\n",
    "singleline = \" \".join(ext_str.split())\n",
    "print(singleline)"
   ]
  },
  {
   "cell_type": "code",
   "execution_count": 27,
   "id": "1120d2e6-d6a8-4982-bc5d-1ebf2b75290f",
   "metadata": {},
   "outputs": [],
   "source": [
    "#testing part\n",
    "\n",
    "extracted_text = \"\"\"East Repair Inc. INVOICE 1912 Harvest Lane New York, NY 12210 Bill To Ship To: Invoice # US-001 dohn Smith ohn Seaith Involce Date 11022019 2Court Square 3787 Pineview Drive Now York, NY 12210 ‘Cambridge, MA 12210 ad 231272019 Due date 26/02/2019 ary DESCRIPTION UNIT PRICE AMOUNT 1 Front and rear brake cables 100.00 100.00 2 _| New set of pedal arms 15.00 30.00 3 Labor 3hrs- 5.00 15.00 Subtotal 145,00 Sales Tax 6.25% 9.06 TOTAL $154.06 ‘Terms & Conditions Payment is duo within 16 days Please make checks payable to: East Repair inc.\"\"\"\n"
   ]
  },
  {
   "cell_type": "code",
   "execution_count": 33,
   "id": "0d564908-e5fd-4c75-bd83-a07be3a48d8b",
   "metadata": {},
   "outputs": [
    {
     "name": "stdout",
     "output_type": "stream",
     "text": [
      "Extracted Invoice Data:\n",
      "{\n",
      "    \"email\": null,\n",
      "    \"phone\": null,\n",
      "    \"client_name\": null,\n",
      "    \"address\": null,\n",
      "    \"GST no.\": null,\n",
      "    \"invoice_number\": \"US-001\",\n",
      "    \"invoice_date\": null,\n",
      "    \"due_date\": \"26/02/2019\",\n",
      "    \"Amount_due\": \"154.06\"\n",
      "}\n"
     ]
    }
   ],
   "source": [
    "email_pattern = r'Email:\\s*([\\w\\.-]+@[\\w\\.-]+)'  \n",
    "phone_pattern = r'Phone:\\s*([\\d\\s]+)' \n",
    "client_name_pattern = r'Bill To\\s*:\\s*(.*?)(?=\\s*Ship To:|Invoice #)'  \n",
    "address_pattern = r'Bill To\\s*:\\s*.*\\s*(.*?)(?=\\s*Invoice #)' \n",
    "gst_pattern = r'Invoice #\\s*([^\\s]+)'  \n",
    "invoice_date_pattern = r'Invoice Date\\s*(\\d{2}/\\d{2}/\\d{4})'  \n",
    "due_date_pattern = r'Due date\\s*(\\d{2}/\\d{2}/\\d{4})' \n",
    "amount_due_pattern = r'TOTAL\\s*\\$([,\\d]+\\.\\d{2})'\n",
    "\n",
    "def extract_group_or_none(pattern, text):\n",
    "    match = re.search(pattern, text)\n",
    "    return match.group(1).strip() if match else None\n",
    "\n",
    "invoice_data = {\n",
    "    \"email\": extract_group_or_none(email_pattern, extracted_text),\n",
    "    \"phone\": extract_group_or_none(phone_pattern, extracted_text),\n",
    "    \"client_name\": extract_group_or_none(client_name_pattern, extracted_text),\n",
    "    \"address\": extract_group_or_none(address_pattern, extracted_text),\n",
    "    \"GST no.\": extract_group_or_none(gst_pattern, extracted_text),  # GST pattern is optional; might not be in every invoice\n",
    "    \"invoice_number\": extract_group_or_none(invoice_pattern, extracted_text),\n",
    "    \"invoice_date\": extract_group_or_none(invoice_date_pattern, extracted_text),\n",
    "    \"due_date\": extract_group_or_none(due_date_pattern,extracted_text),\n",
    "    \"Amount_due\": extract_group_or_none(amount_due_pattern, extracted_text)\n",
    "}\n",
    "\n",
    "print(\"Extracted Invoice Data:\")\n",
    "print(json.dumps(invoice_data, indent=4))\n",
    "\n",
    "save_file = open(\"/teamspace/studios/this_studio/Result/invoice_data.json\", \"w\")  \n",
    "json.dump(invoice_data, save_file, indent=4)\n",
    "save_file.close()\n",
    "\n"
   ]
  },
  {
   "cell_type": "code",
   "execution_count": null,
   "id": "420ddcaf-5d67-49af-aeb6-da8b743fd14f",
   "metadata": {},
   "outputs": [],
   "source": []
  }
 ],
 "metadata": {
  "kernelspec": {
   "display_name": "Python 3",
   "language": "python",
   "name": "python3"
  },
  "language_info": {
   "codemirror_mode": {
    "name": "ipython",
    "version": 3
   },
   "file_extension": ".py",
   "mimetype": "text/x-python",
   "name": "python",
   "nbconvert_exporter": "python",
   "pygments_lexer": "ipython3",
   "version": "3.10.10"
  }
 },
 "nbformat": 4,
 "nbformat_minor": 5
}
